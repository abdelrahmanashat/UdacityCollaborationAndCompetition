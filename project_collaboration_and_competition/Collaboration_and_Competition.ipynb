{
 "cells": [
  {
   "cell_type": "markdown",
   "metadata": {},
   "source": [
    "# Project: Collaboration and Competition\n",
    "---\n",
    "In this notebook, you will implement an actor-critic agent to solve Unity Environment's Tennis environment."
   ]
  },
  {
   "cell_type": "markdown",
   "metadata": {},
   "source": [
    "### 1. Import necessary packages\n",
    "1. We import some basic libraries such as Numpy, torch,copy, datetime, namedtuple, deque, and matplotlib. \n",
    "1. We import Pytorch libraries for neural networks. \n",
    "1. We import UnityEnvironment that will allow us to interact with the Banana Environment. \n",
    "1. We define a device variable that operates the code on GPU if GPU is available."
   ]
  },
  {
   "cell_type": "code",
   "execution_count": 1,
   "metadata": {},
   "outputs": [],
   "source": [
    "import random\n",
    "import torch\n",
    "import numpy as np\n",
    "import copy\n",
    "import datetime\n",
    "from collections import namedtuple, deque\n",
    "\n",
    "import matplotlib.pyplot as plt\n",
    "%matplotlib inline\n",
    "plt.ion()\n",
    "\n",
    "import torch\n",
    "import torch.nn as nn\n",
    "import torch.nn.functional as F\n",
    "import torch.optim as optim\n",
    "\n",
    "from unityagents import UnityEnvironment\n",
    "\n",
    "device = torch.device(\"cuda:0\" if torch.cuda.is_available() else \"cpu\")"
   ]
  },
  {
   "cell_type": "markdown",
   "metadata": {},
   "source": [
    "### 2. Instantiate the Environment\n",
    "Next, we will start the environment!  **_Before running the code cell below_**, change the `Environment_name` parameter to match the location of the Unity environment that you downloaded.\n",
    "\n",
    "- **Mac**: `\"path/to/Reacher.app\"`\n",
    "- **Windows** (x86): `\"path/to/Reacher_Windows_x86/Reacher.exe\"`\n",
    "- **Windows** (x86_64): `\"path/to/Reacher_Windows_x86_64/Reacher.exe\"`\n",
    "- **Linux** (x86): `\"path/to/Reacher_Linux/Reacher.x86\"`\n",
    "- **Linux** (x86_64): `\"path/to/Reacher_Linux/Reacher.x86_64\"`\n",
    "- **Linux** (x86, headless): `\"path/to/Reacher_Linux_NoVis/Reacher.x86\"`\n",
    "- **Linux** (x86_64, headless): `\"path/to/Reacher_Linux_NoVis/Reacher.x86_64\"`\n",
    "\n",
    "For instance, if you are using a Mac, then you downloaded `Reacher.app`.  If this file is in the same folder as the notebook, then the line below should appear as follows:\n",
    "```\n",
    "Environment_name = \"Reacher.exe\"\n",
    "```"
   ]
  },
  {
   "cell_type": "code",
   "execution_count": 2,
   "metadata": {},
   "outputs": [
    {
     "name": "stderr",
     "output_type": "stream",
     "text": [
      "INFO:unityagents:\n",
      "'Academy' started successfully!\n",
      "Unity Academy name: Academy\n",
      "        Number of Brains: 1\n",
      "        Number of External Brains : 1\n",
      "        Lesson number : 0\n",
      "        Reset Parameters :\n",
      "\t\t\n",
      "Unity brain name: TennisBrain\n",
      "        Number of Visual Observations (per agent): 0\n",
      "        Vector Observation space type: continuous\n",
      "        Vector Observation space size (per agent): 8\n",
      "        Number of stacked Vector Observation: 3\n",
      "        Vector Action space type: continuous\n",
      "        Vector Action space size (per agent): 2\n",
      "        Vector Action descriptions: , \n"
     ]
    }
   ],
   "source": [
    "Environment_name = \"Tennis_Windows_x86_64\\Tennis.exe\"\n",
    "env = UnityEnvironment(file_name=Environment_name)"
   ]
  },
  {
   "cell_type": "markdown",
   "metadata": {},
   "source": [
    "Environments contain **_brains_** which are responsible for deciding the actions of their associated agents. Here we check for the first brain available, and set it as the default brain we will be controlling from Python."
   ]
  },
  {
   "cell_type": "code",
   "execution_count": 3,
   "metadata": {},
   "outputs": [
    {
     "name": "stdout",
     "output_type": "stream",
     "text": [
      "TennisBrain\n",
      "Unity brain name: TennisBrain\n",
      "        Number of Visual Observations (per agent): 0\n",
      "        Vector Observation space type: continuous\n",
      "        Vector Observation space size (per agent): 8\n",
      "        Number of stacked Vector Observation: 3\n",
      "        Vector Action space type: continuous\n",
      "        Vector Action space size (per agent): 2\n",
      "        Vector Action descriptions: , \n"
     ]
    }
   ],
   "source": [
    "# get the default brain\n",
    "brain_name = env.brain_names[0]\n",
    "brain = env.brains[brain_name]\n",
    "print(brain_name)\n",
    "print(brain)"
   ]
  },
  {
   "cell_type": "markdown",
   "metadata": {},
   "source": [
    "### 3. Explore the Environment\n",
    "\n",
    "In this environment, two agents control rackets to bounce a ball over a net. If an agent hits the ball over the net, it receives a reward of +0.1.  If an agent lets a ball hit the ground or hits the ball out of bounds, it receives a reward of -0.01.  Thus, the goal of each agent is to keep the ball in play.\n",
    "\n",
    "The observation space consists of 8 variables corresponding to the position and velocity of the ball and racket. Two continuous actions are available, corresponding to movement toward (or away from) the net, and jumping. \n",
    "\n",
    "Run the code cell below to print some information about the environment."
   ]
  },
  {
   "cell_type": "code",
   "execution_count": 4,
   "metadata": {},
   "outputs": [
    {
     "name": "stdout",
     "output_type": "stream",
     "text": [
      "Number of agents: 2\n",
      "Size of each action: 2\n",
      "There are 2 agents. Each observes a state with length: 24\n",
      "The state for the first agent looks like: [ 0.          0.          0.          0.          0.          0.\n",
      "  0.          0.          0.          0.          0.          0.\n",
      "  0.          0.          0.          0.         -6.65278625 -1.5\n",
      " -0.          0.          6.83172083  6.         -0.          0.        ]\n"
     ]
    }
   ],
   "source": [
    "# reset the environment\n",
    "env_info = env.reset(train_mode=True)[brain_name]\n",
    "\n",
    "# number of agents\n",
    "num_agents = len(env_info.agents)\n",
    "print('Number of agents:', num_agents)\n",
    "\n",
    "# size of each action\n",
    "action_size = brain.vector_action_space_size\n",
    "print('Size of each action:', action_size)\n",
    "\n",
    "# examine the state space \n",
    "states = env_info.vector_observations\n",
    "state_size = states.shape[1]\n",
    "print('There are {} agents. Each observes a state with length: {}'.format(states.shape[0], state_size))\n",
    "print('The state for the first agent looks like:', states[0])"
   ]
  },
  {
   "cell_type": "markdown",
   "metadata": {},
   "source": [
    "### 4. Take Random Actions in the Environment\n",
    "\n",
    "In the next code cell, you will learn how to use the Python API to control the agent and receive feedback from the environment.\n",
    "\n",
    "Once this cell is executed, you will watch the agent's performance, if it selects an action at random with each time step.  A window should pop up that allows you to observe the agent, as it moves through the environment.  \n",
    "\n",
    "Of course, as part of the project, you'll have to change the code so that the agent is able to use its experience to gradually choose better actions when interacting with the environment!"
   ]
  },
  {
   "cell_type": "code",
   "execution_count": 5,
   "metadata": {},
   "outputs": [
    {
     "name": "stdout",
     "output_type": "stream",
     "text": [
      "Score (max over agents) from episode 1: 0.0\n",
      "Score (max over agents) from episode 2: 0.0\n",
      "Score (max over agents) from episode 3: 0.0\n",
      "Score (max over agents) from episode 4: 0.0\n",
      "Score (max over agents) from episode 5: 0.0\n",
      "Score (max over agents) from episode 6: 0.0\n",
      "Score (max over agents) from episode 7: 0.0\n",
      "Score (max over agents) from episode 8: 0.0\n",
      "Score (max over agents) from episode 9: 0.0\n",
      "Score (max over agents) from episode 10: 0.0\n"
     ]
    }
   ],
   "source": [
    "for i in range(1, 11):                                     # play game for 10 episodes\n",
    "    env_info = env.reset(train_mode=False)[brain_name]     # reset the environment    \n",
    "    states = env_info.vector_observations                  # get the current state (for each agent)\n",
    "    scores = np.zeros(num_agents)                          # initialize the score (for each agent)\n",
    "    while True:\n",
    "        actions = np.random.randn(num_agents, action_size) # select an action (for each agent)\n",
    "        actions = np.clip(actions, -1, 1)                  # all actions between -1 and 1\n",
    "        env_info = env.step(actions)[brain_name]           # send all actions to tne environment\n",
    "        next_states = env_info.vector_observations         # get next state (for each agent)\n",
    "        rewards = env_info.rewards                         # get reward (for each agent)\n",
    "        dones = env_info.local_done                        # see if episode finished\n",
    "        scores += env_info.rewards                         # update the score (for each agent)\n",
    "        states = next_states                               # roll over states to next time step\n",
    "        if np.any(dones):                                  # exit loop if episode finished\n",
    "            break\n",
    "    print('Score (max over agents) from episode {}: {}'.format(i, np.max(scores)))"
   ]
  },
  {
   "cell_type": "markdown",
   "metadata": {},
   "source": [
    "### 5. Build Our Actor and Critic Networks\n",
    "\n",
    "The Neural Network models we are going to use consist of fully connected layers only as the state space is not pixels.\n"
   ]
  },
  {
   "cell_type": "code",
   "execution_count": 6,
   "metadata": {},
   "outputs": [],
   "source": [
    "def hidden_init(layer):\n",
    "    fan_in = layer.weight.data.size()[0]\n",
    "    lim = 1. / np.sqrt(fan_in)\n",
    "    return (-lim, lim)\n",
    "\n",
    "class Actor(nn.Module):\n",
    "    \"\"\"Actor (Policy) Model.\"\"\"\n",
    "\n",
    "    def __init__(self, state_size, action_size, seed, fc1_units=200, fc2_units=100):\n",
    "        \"\"\"Initialize parameters and build model.\n",
    "        Params\n",
    "        ======\n",
    "            state_size (int): Dimension of each state\n",
    "            action_size (int): Dimension of each action\n",
    "            seed (int): Random seed\n",
    "            fc1_units (int): Number of nodes in first hidden layer\n",
    "            fc2_units (int): Number of nodes in second hidden layer\n",
    "        \"\"\"\n",
    "        super(Actor, self).__init__()\n",
    "        self.seed = torch.manual_seed(seed)\n",
    "        self.fc1 = nn.Linear(state_size, fc1_units)\n",
    "        self.fc2 = nn.Linear(fc1_units, fc2_units)\n",
    "        self.fc3 = nn.Linear(fc2_units, action_size)\n",
    "        self.reset_parameters()\n",
    "\n",
    "    def reset_parameters(self):\n",
    "        self.fc1.weight.data.uniform_(*hidden_init(self.fc1))\n",
    "        self.fc2.weight.data.uniform_(*hidden_init(self.fc2))\n",
    "        self.fc3.weight.data.uniform_(-3e-3, 3e-3)\n",
    "\n",
    "    def forward(self, state):\n",
    "        \"\"\"Build an actor (policy) network that maps states -> actions.\"\"\"\n",
    "        x = F.relu(self.fc1(state))\n",
    "        x = F.relu(self.fc2(x))\n",
    "        return torch.tanh(self.fc3(x))\n",
    "\n",
    "\n",
    "class Critic(nn.Module):\n",
    "    \"\"\"Critic (Value) Model.\"\"\"\n",
    "\n",
    "    def __init__(self, state_size, action_size, seed, fcs1_units=200, fc2_units=100):\n",
    "        \"\"\"Initialize parameters and build model.\n",
    "        Params\n",
    "        ======\n",
    "            state_size (int): Dimension of each state\n",
    "            action_size (int): Dimension of each action\n",
    "            seed (int): Random seed\n",
    "            fcs1_units (int): Number of nodes in the first hidden layer\n",
    "            fc2_units (int): Number of nodes in the second hidden layer\n",
    "        \"\"\"\n",
    "        super(Critic, self).__init__()\n",
    "        self.seed = torch.manual_seed(seed)\n",
    "        self.fcs1 = nn.Linear(state_size, fcs1_units)\n",
    "        self.fc2 = nn.Linear(fcs1_units+action_size, fc2_units)\n",
    "        self.fc3 = nn.Linear(fc2_units, 1)\n",
    "        self.reset_parameters()\n",
    "\n",
    "    def reset_parameters(self):\n",
    "        self.fcs1.weight.data.uniform_(*hidden_init(self.fcs1))\n",
    "        self.fc2.weight.data.uniform_(*hidden_init(self.fc2))\n",
    "        self.fc3.weight.data.uniform_(-3e-3, 3e-3)\n",
    "\n",
    "    def forward(self, state, action):\n",
    "        \"\"\"Build a critic (value) network that maps (state, action) pairs -> Q-values.\"\"\"\n",
    "        xs = F.relu(self.fcs1(state))\n",
    "        x = torch.cat((xs, action), dim=1)\n",
    "        x = F.relu(self.fc2(x))\n",
    "        return self.fc3(x)"
   ]
  },
  {
   "cell_type": "markdown",
   "metadata": {},
   "source": [
    "### 6. Build Our Actor-Critic Agent\n",
    "\n",
    "We define a class called `ReplayBuffer` that holds the memory of past experiences."
   ]
  },
  {
   "cell_type": "code",
   "execution_count": 7,
   "metadata": {},
   "outputs": [],
   "source": [
    "class ReplayBuffer:\n",
    "    \"\"\"Fixed-size buffer to store experience tuples.\"\"\"\n",
    "\n",
    "    def __init__(self, action_size, buffer_size, batch_size, seed):\n",
    "        \"\"\"Initialize a ReplayBuffer object.\n",
    "        Params\n",
    "        ======\n",
    "            buffer_size (int): maximum size of buffer\n",
    "            batch_size (int): size of each training batch\n",
    "        \"\"\"\n",
    "        self.action_size = action_size\n",
    "        self.memory = deque(maxlen=buffer_size)  # internal memory (deque)\n",
    "        self.batch_size = batch_size\n",
    "        self.experience = namedtuple(\"Experience\", field_names=[\"state\", \"action\", \"reward\", \"next_state\", \"done\"])\n",
    "        self.seed = random.seed(seed)\n",
    "    \n",
    "    def add(self, state, action, reward, next_state, done):\n",
    "        \"\"\"Add a new experience to memory.\"\"\"\n",
    "        e = self.experience(state, action, reward, next_state, done)\n",
    "        self.memory.append(e)\n",
    "    \n",
    "    def sample(self):\n",
    "        \"\"\"Randomly sample a batch of experiences from memory.\"\"\"\n",
    "        experiences = random.sample(self.memory, k=self.batch_size)\n",
    "\n",
    "        states = torch.from_numpy(np.vstack([e.state for e in experiences if e is not None])).float().to(device)\n",
    "        actions = torch.from_numpy(np.vstack([e.action for e in experiences if e is not None])).float().to(device)\n",
    "        rewards = torch.from_numpy(np.vstack([e.reward for e in experiences if e is not None])).float().to(device)\n",
    "        next_states = torch.from_numpy(np.vstack([e.next_state for e in experiences if e is not None])).float().to(device)\n",
    "        dones = torch.from_numpy(np.vstack([e.done for e in experiences if e is not None]).astype(np.uint8)).float().to(device)\n",
    "\n",
    "        return (states, actions, rewards, next_states, dones)\n",
    "\n",
    "    def __len__(self):\n",
    "        \"\"\"Return the current size of internal memory.\"\"\"\n",
    "        return len(self.memory)"
   ]
  },
  {
   "cell_type": "markdown",
   "metadata": {},
   "source": [
    "We define a class called `OUNoise` that creates a sample of Ornstein-Uhlenbeck noise process that will be added on actions to provide exploration."
   ]
  },
  {
   "cell_type": "code",
   "execution_count": 8,
   "metadata": {},
   "outputs": [],
   "source": [
    "class OUNoise:\n",
    "    \"\"\"Ornstein-Uhlenbeck process.\"\"\"\n",
    "\n",
    "    def __init__(self, size, seed, mu=0., theta=0.15, sigma=0.2):\n",
    "        \"\"\"Initialize parameters and noise process.\"\"\"\n",
    "        self.mu = mu * np.ones(size)\n",
    "        self.theta = theta\n",
    "        self.sigma = sigma\n",
    "        self.seed = random.seed(seed)\n",
    "        self.reset()\n",
    "\n",
    "    def reset(self):\n",
    "        \"\"\"Reset the internal state (= noise) to mean (mu).\"\"\"\n",
    "        self.state = copy.copy(self.mu)\n",
    "\n",
    "    def sample(self):\n",
    "        \"\"\"Update internal state and return it as a noise sample.\"\"\"\n",
    "        x = self.state\n",
    "        dx = self.theta * (self.mu - x) + self.sigma * np.random.standard_normal(len(x))\n",
    "        self.state = x + dx\n",
    "        return self.state"
   ]
  },
  {
   "cell_type": "markdown",
   "metadata": {},
   "source": [
    "- The agent will use the actor and critic models we built to make 2 identical Neural Networks of each:\n",
    "    1. Local actor Neural Network: This will be updated every epoch\n",
    "    1. Target actor Neural Network: This will be soft-updated with the value of the local neural network\n",
    "    1. Local critic Neural Network: This will be updated every epoch\n",
    "    1. Target critic Neural Network: This will be soft-updated with the value of the local neural network\n",
    "\n",
    "\n",
    "- The hyper parameters in the agent will be:\n",
    "    1. `BUFFER_SIZE` - Size of the pool of past experiences the agent will choose from\n",
    "    1. `BATCH_SIZE` - Minibatch size\n",
    "    1. `GAMMA` - Discount factor &gamma;\n",
    "    1. `TAU` - Soft updae parameter &tau;\n",
    "    1. `LR_ACTOR` - Learning rate parameter for the actor network\n",
    "    1. `LR_CRITIC` - Learning rate parameter for the critic network\n",
    "    1. `WEIGHT_DECAY` - L2 weight decay\n",
    "    1. `LEARN_UPDATES` - Number of learning updates\n",
    "    1. `TIME_STEPS_TO_LEARN` - Every n time steps do update"
   ]
  },
  {
   "cell_type": "code",
   "execution_count": 9,
   "metadata": {},
   "outputs": [],
   "source": [
    "BUFFER_SIZE = int(1e6)  # replay buffer size\n",
    "BATCH_SIZE = 128        # minibatch size\n",
    "GAMMA = 0.99            # discount factor\n",
    "TAU = 1e-3              # for soft update of target parameters\n",
    "LR_ACTOR = 1e-4         # learning rate of the actor \n",
    "LR_CRITIC = 1e-4        # learning rate of the critic\n",
    "WEIGHT_DECAY = 0        # L2 weight decay\n",
    "\n",
    "LEARN_UPDATES = 1          # number of learning updates\n",
    "TIME_STEPS_TO_LEARN = 1    # every n time step do update\n",
    "\n",
    "class Agent():\n",
    "    \"\"\"Interacts with and learns from the environment.\"\"\"\n",
    "    \n",
    "    def __init__(self, state_size, action_size, random_seed):\n",
    "        \"\"\"Initialize an Agent object.\n",
    "        \n",
    "        Params\n",
    "        ======\n",
    "            state_size (int): dimension of each state\n",
    "            action_size (int): dimension of each action\n",
    "            random_seed (int): random seed\n",
    "        \"\"\"\n",
    "        self.state_size = state_size\n",
    "        self.action_size = action_size\n",
    "        self.seed = random.seed(random_seed)\n",
    "\n",
    "        # Actor Network (w/ Target Network)\n",
    "        self.actor_local = Actor(state_size, action_size, random_seed).to(device)\n",
    "        self.actor_target = Actor(state_size, action_size, random_seed).to(device)\n",
    "        self.actor_optimizer = optim.Adam(self.actor_local.parameters(), lr=LR_ACTOR)\n",
    "\n",
    "        # Critic Network (w/ Target Network)\n",
    "        self.critic_local = Critic(state_size, action_size, random_seed).to(device)\n",
    "        self.critic_target = Critic(state_size, action_size, random_seed).to(device)\n",
    "        self.critic_optimizer = optim.Adam(self.critic_local.parameters(), lr=LR_CRITIC, weight_decay=WEIGHT_DECAY)\n",
    "\n",
    "        # Noise process\n",
    "        self.noise = OUNoise(action_size, random_seed)\n",
    "\n",
    "        # Replay memory\n",
    "        self.memory = ReplayBuffer(action_size, BUFFER_SIZE, BATCH_SIZE, random_seed)\n",
    "    \n",
    "    def step(self, time_step, state, action, reward, next_state, done):\n",
    "        \"\"\"Save experience in replay memory, and use random sample from buffer to learn.\"\"\"\n",
    "        # Save experience / reward\n",
    "        self.memory.add(state, action, reward, next_state, done)\n",
    "\n",
    "        # only learn every n_time_steps\n",
    "        if time_step % TIME_STEPS_TO_LEARN != 0:\n",
    "            return\n",
    "        \n",
    "        # Learn, if enough samples are available in memory\n",
    "        if len(self.memory) > BATCH_SIZE:\n",
    "            for _ in range(LEARN_UPDATES):\n",
    "                experiences = self.memory.sample()\n",
    "                self.learn(experiences, GAMMA)\n",
    "\n",
    "    def act(self, state, add_noise=True):\n",
    "        \"\"\"Returns actions for given state as per current policy.\"\"\"\n",
    "        state = torch.from_numpy(state).float().unsqueeze(0).to(device) #typecast to torch.Tensor\n",
    "        self.actor_local.eval()\n",
    "        with torch.no_grad():\n",
    "            action = self.actor_local(state).cpu().data.numpy()\n",
    "        self.actor_local.train()\n",
    "        if add_noise:\n",
    "            action += self.noise.sample()\n",
    "        return np.clip(action, -1, 1)\n",
    "\n",
    "    def reset(self):\n",
    "        self.noise.reset()\n",
    "\n",
    "    def learn(self, experiences, gamma):\n",
    "        \"\"\"Update policy and value parameters using given batch of experience tuples.\n",
    "        Q_targets = r + γ * critic_target(next_state, actor_target(next_state))\n",
    "        where:\n",
    "            actor_target(state) -> action\n",
    "            critic_target(state, action) -> Q-value\n",
    "\n",
    "        Params\n",
    "        ======\n",
    "            experiences (Tuple[torch.Tensor]): tuple of (s, a, r, s', done) tuples \n",
    "            gamma (float): discount factor\n",
    "        \"\"\"\n",
    "        states, actions, rewards, next_states, dones = experiences\n",
    "\n",
    "        # ---------------------------- update critic ---------------------------- #\n",
    "        # Get predicted next-state actions and Q values from target models\n",
    "        actions_next = self.actor_target(next_states)\n",
    "        Q_targets_next = self.critic_target(next_states, actions_next) \n",
    "        # Compute Q targets for current states (y_i)\n",
    "        Q_targets = rewards + (gamma * Q_targets_next * (1 - dones))\n",
    "        \n",
    "        # Compute critic loss\n",
    "        Q_expected = self.critic_local(states, actions) \n",
    "        critic_loss = F.mse_loss(Q_expected, Q_targets) \n",
    "        \n",
    "        # Minimize the loss\n",
    "        self.critic_optimizer.zero_grad()\n",
    "        critic_loss.backward()\n",
    "        nn.utils.clip_grad_norm_(self.critic_local.parameters(), 1) #clip gradients\n",
    "        self.critic_optimizer.step()\n",
    "\n",
    "        # ---------------------------- update actor ---------------------------- #\n",
    "        # Compute actor loss\n",
    "        actions_pred = self.actor_local(states) \n",
    "        actor_loss = -self.critic_local(states, actions_pred).mean()\n",
    "        \n",
    "        # Minimize the loss\n",
    "        self.actor_optimizer.zero_grad()\n",
    "        actor_loss.backward()\n",
    "        self.actor_optimizer.step()\n",
    "\n",
    "        # ----------------------- update target networks ----------------------- # \n",
    "        self.soft_update(self.critic_local, self.critic_target, TAU)\n",
    "        self.soft_update(self.actor_local, self.actor_target, TAU)                     \n",
    "\n",
    "    def soft_update(self, local_model, target_model, tau):\n",
    "        \"\"\"Soft update model parameters.\n",
    "        θ_target = τ*θ_local + (1 - τ)*θ_target\n",
    "\n",
    "        Params\n",
    "        ======\n",
    "            local_model: PyTorch model (weights will be copied from)\n",
    "            target_model: PyTorch model (weights will be copied to)\n",
    "            tau (float): interpolation parameter \n",
    "        \"\"\"\n",
    "        for target_param, local_param in zip(target_model.parameters(), local_model.parameters()):\n",
    "            target_param.data.copy_(tau*local_param.data + (1.0-tau)*target_param.data)"
   ]
  },
  {
   "cell_type": "markdown",
   "metadata": {},
   "source": [
    "### 7. Train Many Agents\n",
    "Define a function `actor_critic_train_many` that trains any number of agents."
   ]
  },
  {
   "cell_type": "code",
   "execution_count": 10,
   "metadata": {},
   "outputs": [],
   "source": [
    "def actor_critic_train_many(env, agents, scores, n_episodes=2000, max_t=1000, add_noise=True, max_score=30):\n",
    "    \"\"\"Deep Q-Learning.\n",
    "    \n",
    "    Params\n",
    "    ======\n",
    "        env (Environment_variable) : an instance of the enivronment class\n",
    "        agents (list) : a list containing instances of the agent class\n",
    "        scores (list) : an empty list to hold the scores\n",
    "        n_episodes (int): maximum number of training episodes\n",
    "        max_t (int): maximum number of timesteps per episode\n",
    "        add_noise (boolean): whether or not provide noise for exploration\n",
    "        max_score (int): the maximum average reward over 100 episodes at which the training stops\n",
    "    \"\"\"\n",
    "    scores_window = deque(maxlen=100)  # last 100 scores\n",
    "    brain_name = env.brain_names[0]\n",
    "    num_agents = len(agents)\n",
    "    \n",
    "    for i_episode in range(1, n_episodes+1):\n",
    "        env_info = env.reset(train_mode=True)[brain_name]  # reset the environment\n",
    "        states = env_info.vector_observations              # get the current state\n",
    "        \n",
    "        for agent in agents:                               # Reset Noise\n",
    "            agent.reset()                                  \n",
    "        \n",
    "        scores_one_episode = np.zeros(num_agents)\n",
    "        for t in range(max_t):\n",
    "            actions = np.array([agents[i].act(states[i]) for i in range(num_agents)]).squeeze(1) # choose the apropriate action\n",
    "            env_info = env.step(actions)[brain_name]        # send the action to the environment\n",
    "            next_states = env_info.vector_observations      # get the next state\n",
    "            rewards = env_info.rewards                      # get the reward\n",
    "            dones = env_info.local_done                     # see if episode has finished\n",
    "            \n",
    "            for i in range(num_agents):\n",
    "                agents[i].step(t, states[i], actions[i], rewards[i], next_states[i], dones[i])\n",
    "            \n",
    "            states = next_states\n",
    "            scores_one_episode += rewards\n",
    "            if np.any(dones):\n",
    "                break\n",
    "        \n",
    "        score = np.max(scores_one_episode)              # get the maximum of both agents' scores\n",
    "        scores_window.append(score)                     # save most recent score\n",
    "        scores_window_mean = np.mean(scores_window)     # average score over last 100 episodes\n",
    "        scores.append(score)                            # save most recent score\n",
    "        print('\\rEpisode {}\\tScore {:.5f}\\tAverage Score: {:.5f}'.format(i_episode, score, scores_window_mean), end=\"\")\n",
    "        if i_episode % 100 == 0:\n",
    "            print('\\rEpisode {}\\tScore {:.5f}\\tAverage Score: {:.5f}'.format(i_episode, score, scores_window_mean))\n",
    "        if i_episode % 100 == 0:\n",
    "            for i in range(num_agents):\n",
    "                torch.save(agents[i].actor_local.state_dict(), \"checkpoint_actor_{}.pth\".format(i))\n",
    "                torch.save(agents[i].critic_local.state_dict(), \"checkpoint_critic_{}.pth\".format(i))\n",
    "        if np.mean(scores_window)>=max_score:\n",
    "            print('\\nEnvironment solved in {:d} episodes!\\tAverage Score: {:.2f}'.format(i_episode, scores_window_mean))\n",
    "            for i in range(num_agents):\n",
    "                torch.save(agents[i].actor_local.state_dict(), \"checkpoint_actor_{}.pth\".format(i))\n",
    "                torch.save(agents[i].critic_local.state_dict(), \"checkpoint_critic_{}.pth\".format(i))\n",
    "            break"
   ]
  },
  {
   "cell_type": "markdown",
   "metadata": {},
   "source": [
    "Run the cell below to begin training"
   ]
  },
  {
   "cell_type": "code",
   "execution_count": 11,
   "metadata": {
    "scrolled": false
   },
   "outputs": [
    {
     "name": "stdout",
     "output_type": "stream",
     "text": [
      "Episode 100\tScore 0.00000\tAverage Score: 0.00700\n",
      "Episode 200\tScore 0.10000\tAverage Score: 0.01000\n",
      "Episode 300\tScore 0.00000\tAverage Score: 0.01550\n",
      "Episode 400\tScore 0.00000\tAverage Score: 0.01200\n",
      "Episode 500\tScore 0.10000\tAverage Score: 0.03220\n",
      "Episode 600\tScore 0.10000\tAverage Score: 0.05700\n",
      "Episode 700\tScore 0.09000\tAverage Score: 0.06820\n",
      "Episode 800\tScore 0.10000\tAverage Score: 0.05790\n",
      "Episode 900\tScore 0.00000\tAverage Score: 0.06120\n",
      "Episode 1000\tScore 0.10000\tAverage Score: 0.06840\n",
      "Episode 1100\tScore 0.10000\tAverage Score: 0.08530\n",
      "Episode 1200\tScore 0.00000\tAverage Score: 0.08810\n",
      "Episode 1300\tScore 0.29000\tAverage Score: 0.11540\n",
      "Episode 1400\tScore 0.10000\tAverage Score: 0.11410\n",
      "Episode 1500\tScore 0.10000\tAverage Score: 0.13660\n",
      "Episode 1600\tScore 0.10000\tAverage Score: 0.15120\n",
      "Episode 1700\tScore 0.10000\tAverage Score: 0.17020\n",
      "Episode 1800\tScore 0.20000\tAverage Score: 0.18640\n",
      "Episode 1900\tScore 0.00000\tAverage Score: 0.21670\n",
      "Episode 2000\tScore 0.30000\tAverage Score: 0.19020\n",
      "Episode 2100\tScore 0.20000\tAverage Score: 0.21060\n",
      "Episode 2200\tScore 0.60000\tAverage Score: 0.22680\n",
      "Episode 2300\tScore 0.20000\tAverage Score: 0.24010\n",
      "Episode 2400\tScore 0.30000\tAverage Score: 0.24090\n",
      "Episode 2500\tScore 0.10000\tAverage Score: 0.35990\n",
      "Episode 2600\tScore 0.20000\tAverage Score: 0.42520\n",
      "Episode 2700\tScore 0.20000\tAverage Score: 0.34310\n",
      "Episode 2800\tScore 0.70000\tAverage Score: 0.49070\n",
      "Episode 2900\tScore 0.80000\tAverage Score: 0.37450\n",
      "Episode 3000\tScore 0.80000\tAverage Score: 0.40950\n",
      "Episode 3100\tScore 0.40000\tAverage Score: 0.31520\n",
      "Episode 3200\tScore 0.00000\tAverage Score: 0.42700\n",
      "Episode 3300\tScore 0.70000\tAverage Score: 0.53290\n",
      "Episode 3400\tScore 0.19000\tAverage Score: 0.58140\n",
      "Episode 3500\tScore 0.70000\tAverage Score: 0.56880\n",
      "Episode 3600\tScore 0.80000\tAverage Score: 0.63920\n",
      "Episode 3700\tScore 0.69000\tAverage Score: 0.68910\n",
      "Episode 3800\tScore 1.20000\tAverage Score: 0.65220\n",
      "Episode 3900\tScore 0.20000\tAverage Score: 0.73050\n",
      "Episode 4000\tScore 0.10000\tAverage Score: 0.70710\n",
      "Episode 4100\tScore 1.30000\tAverage Score: 0.54440\n",
      "Episode 4200\tScore 0.30000\tAverage Score: 0.67130\n",
      "Episode 4300\tScore 2.60000\tAverage Score: 0.55630\n",
      "Episode 4400\tScore 1.20000\tAverage Score: 0.58120\n",
      "Episode 4500\tScore 0.00000\tAverage Score: 0.63720\n",
      "Episode 4600\tScore 0.50000\tAverage Score: 0.56550\n",
      "Episode 4700\tScore 0.70000\tAverage Score: 0.55000\n",
      "Episode 4800\tScore 0.79000\tAverage Score: 0.58210\n",
      "Episode 4900\tScore 0.10000\tAverage Score: 0.64120\n",
      "Episode 5000\tScore 0.80000\tAverage Score: 0.54980\n"
     ]
    }
   ],
   "source": [
    "# Choose default brain\n",
    "brain_name = env.brain_names[0]\n",
    "brain = env.brains[brain_name]\n",
    "\n",
    "# Determine state and action sizes\n",
    "env_info = env.reset(train_mode=True)[brain_name]\n",
    "state_size = len(env_info.vector_observations[0])\n",
    "action_size = brain.vector_action_space_size\n",
    "num_agents = len(env_info.agents)\n",
    "\n",
    "# Instatiate the agents\n",
    "agents = []\n",
    "for _ in range(num_agents):\n",
    "    agents.append(Agent(state_size=state_size, action_size=action_size, random_seed=1234))\n",
    "\n",
    "# Define training parameters\n",
    "n_episodes=5000         # maximum number of training episodes\n",
    "max_t=int(2000)         # maximum number of timesteps per episode\n",
    "add_noise=True          # whether or not provide noise for exploration\n",
    "max_score=1.0           # the maximum average reward over 100 episodes at which the training stops\n",
    "\n",
    "# Begin training\n",
    "scores = []\n",
    "actor_critic_train_many(env, agents, scores, n_episodes=n_episodes, max_t=max_t, add_noise=add_noise, max_score=max_score)"
   ]
  },
  {
   "cell_type": "markdown",
   "metadata": {},
   "source": [
    "Run the cell below to plot the scores:"
   ]
  },
  {
   "cell_type": "code",
   "execution_count": 12,
   "metadata": {},
   "outputs": [
    {
     "data": {
      "image/png": "[encoded data removed]",
      "text/plain": [
       "<Figure size 432x288 with 1 Axes>"
      ]
     },
     "metadata": {
      "needs_background": "light"
     },
     "output_type": "display_data"
    }
   ],
   "source": [
    "# plot the scores\n",
    "fig = plt.figure()\n",
    "ax = fig.add_subplot(111)\n",
    "plt.plot(np.arange(len(scores)), scores)\n",
    "plt.ylabel('Score')\n",
    "plt.xlabel('Episode #')\n",
    "plt.show()"
   ]
  },
  {
   "cell_type": "markdown",
   "metadata": {},
   "source": [
    "Run the cell below to plot the running average over 100 episoeds:"
   ]
  },
  {
   "cell_type": "code",
   "execution_count": 13,
   "metadata": {},
   "outputs": [
    {
     "data": {
      "image/png": "[encoded data removed]",
      "text/plain": [
       "<Figure size 432x288 with 1 Axes>"
      ]
     },
     "metadata": {
      "needs_background": "light"
     },
     "output_type": "display_data"
    }
   ],
   "source": [
    "# plot the scores\n",
    "fig = plt.figure()\n",
    "ax = fig.add_subplot(111)\n",
    "avg_scores = []\n",
    "for i in range(1, len(scores)):\n",
    "    if i < 100:\n",
    "        avg_scores.append(np.mean(scores[0:i]))\n",
    "    else:\n",
    "        avg_scores.append(np.mean(scores[i-100:i]))\n",
    "plt.plot(np.arange(len(avg_scores)), avg_scores)\n",
    "plt.ylabel('Score')\n",
    "plt.xlabel('Episode #')\n",
    "plt.show()"
   ]
  },
  {
   "cell_type": "markdown",
   "metadata": {},
   "source": [
    "### 8. Watch Smart Agents!\n",
    "\n",
    "In the next code cell, you will load the trained weights from file to watch a smart agent!\n",
    "There are 2 weights files: `checkpoint_actor_{}.pth` and `checkpoint_critic_{}.pth` where `{}` is the number of the agent. Copy the name of the file holding the weights into the `torch.load()` first argument of both the actor and the critic."
   ]
  },
  {
   "cell_type": "code",
   "execution_count": 14,
   "metadata": {},
   "outputs": [
    {
     "name": "stdout",
     "output_type": "stream",
     "text": [
      "Episode 1\tScore: 0.20000000298023224\n",
      "Episode 2\tScore: 0.6000000089406967\n",
      "Episode 3\tScore: 1.5000000223517418\n",
      "Episode 4\tScore: 0.9000000134110451\n",
      "Episode 5\tScore: 0.10000000149011612\n",
      "Episode 6\tScore: 0.7000000104308128\n",
      "Episode 7\tScore: 0.5000000074505806\n",
      "Episode 8\tScore: 0.800000011920929\n",
      "Episode 9\tScore: 1.6900000274181366\n",
      "Episode 10\tScore: 0.30000000447034836\n",
      "Score Average = 0.729000011086464\n"
     ]
    }
   ],
   "source": [
    "# Choose default brain\n",
    "brain_name = env.brain_names[0]\n",
    "brain = env.brains[brain_name]\n",
    "\n",
    "# Determine state and action sizes\n",
    "env_info = env.reset(train_mode=True)[brain_name]\n",
    "state_size = len(env_info.vector_observations[0])\n",
    "action_size = brain.vector_action_space_size\n",
    "num_agents = len(env_info.agents)\n",
    "\n",
    "# Instatiate the agents\n",
    "agents = []\n",
    "for _ in range(num_agents):\n",
    "    agents.append(Agent(state_size=state_size, action_size=action_size, random_seed=1234))\n",
    "    \n",
    "# load the weights from file\n",
    "if torch.cuda.is_available():\n",
    "    map_location=lambda storage, loc: storage.cuda()\n",
    "else:\n",
    "    map_location='cpu'\n",
    "for i in range(num_agents):\n",
    "    agents[i].actor_local.load_state_dict(torch.load(\"checkpoint_actor_{}.pth\".format(i), map_location=map_location))\n",
    "    agents[i].critic_local.load_state_dict(torch.load(\"checkpoint_critic_{}.pth\".format(i), map_location=map_location))\n",
    "\n",
    "max_episodes = 10\n",
    "max_time = 2000\n",
    "score_board = []\n",
    "\n",
    "for i_episode in range(1, max_episodes+1):\n",
    "    env_info = env.reset(train_mode=True)[brain_name]  # reset the environment\n",
    "    states = env_info.vector_observations              # get the current state\n",
    "        \n",
    "    for agent in agents:                               # Reset Noise\n",
    "        agent.reset()                                  \n",
    "        \n",
    "    scores_one_episode = np.zeros(num_agents)\n",
    "    for t in range(max_time):\n",
    "        actions = np.array([agents[i].act(states[i]) for i in range(num_agents)]).squeeze(1) # choose the apropriate action\n",
    "        env_info = env.step(actions)[brain_name]        # send the action to the environment\n",
    "        next_states = env_info.vector_observations      # get the next state\n",
    "        rewards = env_info.rewards                      # get the reward\n",
    "        dones = env_info.local_done                 # see if episode has finished\n",
    "        states = next_states\n",
    "        scores_one_episode += rewards\n",
    "        if np.any(dones):\n",
    "            break\n",
    "        \n",
    "    score = np.max(scores_one_episode)             # get the maximum of both agents' scores\n",
    "    print(\"Episode {}\\tScore: {}\".format(i_episode, score))\n",
    "    score_board.append(score)\n",
    "print(\"Score Average = {}\".format(np.mean(score_board)))"
   ]
  },
  {
   "cell_type": "markdown",
   "metadata": {},
   "source": [
    "Close the environment."
   ]
  },
  {
   "cell_type": "code",
   "execution_count": 15,
   "metadata": {},
   "outputs": [],
   "source": [
    "env.close()"
   ]
  }
 ],
 "metadata": {
  "kernelspec": {
   "display_name": "Python 3",
   "language": "python",
   "name": "python3"
  },
  "language_info": {
   "codemirror_mode": {
    "name": "ipython",
    "version": 3
   },
   "file_extension": ".py",
   "mimetype": "text/x-python",
   "name": "python",
   "nbconvert_exporter": "python",
   "pygments_lexer": "ipython3",
   "version": "3.8.5"
  }
 },
 "nbformat": 4,
 "nbformat_minor": 2
}
